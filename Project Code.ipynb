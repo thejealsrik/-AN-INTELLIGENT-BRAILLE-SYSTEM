{
  "cells": [
    {
      "cell_type": "code",
      "execution_count": null,
      "metadata": {
        "colab": {
          "base_uri": "https://localhost:8080/"
        },
        "id": "6WXZZI8RdMRh",
        "outputId": "1b75d4e2-e6b5-47c9-d05e-51f3629d39ad"
      },
      "outputs": [
        {
          "output_type": "stream",
          "name": "stdout",
          "text": [
            "Requirement already satisfied: imutils in /usr/local/lib/python3.10/dist-packages (0.5.4)\n",
            "Requirement already satisfied: imageio in /usr/local/lib/python3.10/dist-packages (2.36.0)\n",
            "Requirement already satisfied: numpy in /usr/local/lib/python3.10/dist-packages (from imageio) (1.26.4)\n",
            "Requirement already satisfied: pillow>=8.3.2 in /usr/local/lib/python3.10/dist-packages (from imageio) (11.0.0)\n"
          ]
        }
      ],
      "source": [
        "!pip install imutils\n",
        "!pip install imageio\n",
        "from imutils.perspective import four_point_transform as FPT\n",
        "from collections import Counter\n",
        "import matplotlib.pyplot as plt\n",
        "from imutils import contours\n",
        "from skimage import io\n",
        "import numpy as np\n",
        "import imutils\n",
        "import cv2\n",
        "import re\n",
        "\n",
        "import warnings\n",
        "warnings.filterwarnings(\"ignore\")"
      ]
    },
    {
      "cell_type": "code",
      "execution_count": null,
      "metadata": {
        "id": "UFRGSZYPdWyv"
      },
      "outputs": [],
      "source": [
        "def get_image(url, iter = 2, width = None):\n",
        "  image = io.imread(url)\n",
        "  if width:\n",
        "    image = imutils.resize(image, width)\n",
        "  ans = image.copy()\n",
        "  accumEdged = np.zeros(image.shape[:2], dtype=\"uint8\")\n",
        "  # convert image to black and white\n",
        "  gray = cv2.cvtColor(image, cv2.COLOR_BGR2GRAY)\n",
        "  # blur to remove some of the noise\n",
        "  blurred = cv2.GaussianBlur(gray, (5, 5), 0)\n",
        "  # get edges\n",
        "  edged = cv2.Canny(blurred, 75, 200)\n",
        "  accumEdged = cv2.bitwise_or(accumEdged, edged)\n",
        "  # get contours\n",
        "  ctrs = cv2.findContours(edged.copy(), cv2.RETR_EXTERNAL, cv2.CHAIN_APPROX_SIMPLE)\n",
        "  ctrs = imutils.grab_contours(ctrs)\n",
        "  docCnt = None\n",
        "\n",
        "  # ensure that at least one contour was found\n",
        "  if len(ctrs) > 0:\n",
        "      # sort the contours according to their size in\n",
        "      # descending order\n",
        "      ctrs = sorted(ctrs, key=cv2.contourArea, reverse=True)\n",
        "\n",
        "      # loop over the sorted contours\n",
        "      for c in ctrs:\n",
        "          # approximate the contour\n",
        "          peri = cv2.arcLength(c, True)\n",
        "          approx = cv2.approxPolyDP(c, 0.02 * peri, True)\n",
        "\n",
        "          # if our approximated contour has four points,\n",
        "          # then we can assume we have found the paper\n",
        "          if len(approx) == 4:\n",
        "              docCnt = approx\n",
        "              break\n",
        "\n",
        "  paper = image.copy()\n",
        "\n",
        "  # apply Otsu's thresholding method to binarize the image\n",
        "  thresh = cv2.threshold(gray, 0, 255, cv2.THRESH_BINARY_INV | cv2.THRESH_OTSU)[1]\n",
        "  kernel = np.ones((5,5), np.uint8)\n",
        "  # erode and dilate to remove some of the unnecessary detail\n",
        "  thresh = cv2.erode(thresh, kernel, iterations = iter)\n",
        "  thresh = cv2.dilate(thresh, kernel, iterations = iter)\n",
        "\n",
        "  # find contours in the thresholded image\n",
        "  ctrs = cv2.findContours(thresh.copy(), cv2.RETR_EXTERNAL, cv2.CHAIN_APPROX_SIMPLE)\n",
        "  ctrs = imutils.grab_contours(ctrs)\n",
        "\n",
        "  return image, ctrs, paper, gray, edged, thresh\n",
        "\n",
        "# plot image without axes\n",
        "def display(img):\n",
        "  fig = plt.figure(figsize = (8,12))\n",
        "  plt.imshow(img)\n",
        "  plt.axis('off')\n",
        "  plt.show()"
      ]
    },
    {
      "cell_type": "code",
      "execution_count": null,
      "metadata": {
        "id": "ZVlaJmrTdj2M"
      },
      "outputs": [],
      "source": [
        "def get_image(url, iter = 2, width = None):\n",
        "  image = io.imread(url)\n",
        "  if width:\n",
        "    image = imutils.resize(image, width)\n",
        "  ans = image.copy()\n",
        "  accumEdged = np.zeros(image.shape[:2], dtype=\"uint8\")\n",
        "  # convert image to black and white\n",
        "  gray = cv2.cvtColor(image, cv2.COLOR_BGR2GRAY)\n",
        "  # blur to remove some of the noise\n",
        "  blurred = cv2.GaussianBlur(gray, (5, 5), 0)\n",
        "  # get edges\n",
        "  edged = cv2.Canny(blurred, 75, 200)\n",
        "  accumEdged = cv2.bitwise_or(accumEdged, edged)\n",
        "  # get contours\n",
        "  ctrs = cv2.findContours(edged.copy(), cv2.RETR_EXTERNAL, cv2.CHAIN_APPROX_SIMPLE)\n",
        "  ctrs = imutils.grab_contours(ctrs)\n",
        "  docCnt = None\n",
        "\n",
        "  # ensure that at least one contour was found\n",
        "  if len(ctrs) > 0:\n",
        "      # sort the contours according to their size in\n",
        "      # descending order\n",
        "      ctrs = sorted(ctrs, key=cv2.contourArea, reverse=True)\n",
        "\n",
        "      # loop over the sorted contours\n",
        "      for c in ctrs:\n",
        "          # approximate the contour\n",
        "          peri = cv2.arcLength(c, True)\n",
        "          approx = cv2.approxPolyDP(c, 0.02 * peri, True)\n",
        "\n",
        "          # if our approximated contour has four points,\n",
        "          # then we can assume we have found the paper\n",
        "          if len(approx) == 4:\n",
        "              docCnt = approx\n",
        "              break\n",
        "\n",
        "  paper = image.copy()\n",
        "\n",
        "  # apply Otsu's thresholding method to binarize the image\n",
        "  thresh = cv2.threshold(gray, 0, 255, cv2.THRESH_BINARY_INV | cv2.THRESH_OTSU)[1]\n",
        "  kernel = np.ones((5,5), np.uint8)\n",
        "  # erode and dilate to remove some of the unnecessary detail\n",
        "  thresh = cv2.erode(thresh, kernel, iterations = iter)\n",
        "  thresh = cv2.dilate(thresh, kernel, iterations = iter)\n",
        "\n",
        "  # find contours in the thresholded image\n",
        "  ctrs = cv2.findContours(thresh.copy(), cv2.RETR_EXTERNAL, cv2.CHAIN_APPROX_SIMPLE)\n",
        "  ctrs = imutils.grab_contours(ctrs)\n",
        "\n",
        "  return image, ctrs, paper, gray, edged, thresh\n",
        "\n",
        "# plot image without axes\n",
        "def display(img):\n",
        "  fig = plt.figure(figsize = (8,12))\n",
        "  plt.imshow(img)\n",
        "  plt.axis('off')\n",
        "  plt.show()"
      ]
    },
    {
      "cell_type": "code",
      "execution_count": null,
      "metadata": {
        "id": "GuTD9Uwwdua7"
      },
      "outputs": [],
      "source": [
        "def sort_contours(ctrs):\n",
        "  BB = [list(cv2.boundingRect(c)) for c in ctrs]\n",
        "  # choose tolerance for x, y coordinates of the bounding boxes to be binned together\n",
        "  tol = 0.7*diam\n",
        "\n",
        "  # change x and y coordinates of bounding boxes to their corresponding bins\n",
        "  def sort(i):\n",
        "    S = sorted(BB, key = lambda x: x[i])\n",
        "    s = [b[i] for b in S]\n",
        "    m = s[0]\n",
        "\n",
        "    for b in S:\n",
        "      if m - tol < b[i] < m or m < b[i] < m + tol:\n",
        "        b[i] = m\n",
        "      elif b[i] > m + diam:\n",
        "        for e in s[s.index(m):]:\n",
        "          if e > m + diam:\n",
        "            m = e\n",
        "            break\n",
        "    return sorted(set(s))\n",
        "\n",
        "  # lists of of x and y coordinates\n",
        "  xs = sort(0)\n",
        "  ys = sort(1)\n",
        "\n",
        "  (ctrs, BB) = zip(*sorted(zip(ctrs, BB), key = lambda b: b[1][1]*len(image) + b[1][0]))\n",
        "  # return the list of sorted contours and bounding boxes\n",
        "  return ctrs, BB, xs, ys\n",
        "\n",
        "def get_circles():\n",
        "  questionCtrs = []\n",
        "  for c in ctrs:\n",
        "    (x, y, w, h) = cv2.boundingRect(c)\n",
        "    ar = w / float(h)\n",
        "\n",
        "    # in order to label the contour as a question, region\n",
        "    # should be sufficiently wide, sufficiently tall, and\n",
        "    # have an aspect ratio approximately equal to 1\n",
        "  #     if w >= 20 and h >= 20 and 0.9 <= ar <= 1.1:\n",
        "    if diam*0.8 <= w <= diam*1.2 and 0.8 <= ar <= 1.2:\n",
        "      questionCtrs.append(c)\n",
        "  return questionCtrs\n",
        "\n",
        "def get_diameter():\n",
        "  boundingBoxes = [list(cv2.boundingRect(c)) for c in ctrs]\n",
        "  c = Counter([i[2] for i in boundingBoxes])\n",
        "  mode = c.most_common(1)[0][0]\n",
        "  if mode > 1:\n",
        "    diam = mode\n",
        "  else:\n",
        "    diam = c.most_common(2)[1][0]\n",
        "  return diam\n",
        "\n",
        "\n",
        "def draw_contours(questionCtrs):\n",
        "  color = (0, 255, 0)\n",
        "  i = 0\n",
        "  for q in range(len(questionCtrs)):\n",
        "    cv2.drawContours(paper, questionCtrs[q], -1, color, 3)\n",
        "    cv2.putText(paper, str(i), (boundingBoxes[q][0] + boundingBoxes[q][2]//2, boundingBoxes[q][1] + boundingBoxes[q][3]//2), cv2.FONT_HERSHEY_SIMPLEX, 0.5, (255, 0, 0), 2)\n",
        "    i += 1\n"
      ]
    },
    {
      "cell_type": "code",
      "execution_count": null,
      "metadata": {
        "id": "Vu2AZRwXdvGf"
      },
      "outputs": [],
      "source": [
        "def get_spacing():\n",
        "\n",
        "  def spacing(x):\n",
        "    space = []\n",
        "    coor = [b[x] for b in boundingBoxes]\n",
        "    for i in range(len(coor)-1):\n",
        "      c = coor[i+1] - coor[i]\n",
        "      if c > diam//2: space.append(c)\n",
        "    return sorted(list(set(space)))\n",
        "\n",
        "  spacingX = spacing(0)\n",
        "  spacingY = spacing(1)\n",
        "\n",
        "  # smallest x-serapation (between two adjacent dots in a letter)\n",
        "  m = min(spacingX)\n",
        "\n",
        "  c = 0\n",
        "\n",
        "  d1 = spacingX[0]\n",
        "  d2 = 0\n",
        "  d3 = 0\n",
        "\n",
        "\n",
        "  for x in spacingX:\n",
        "    if d2 == 0 and x > d1*1.3:\n",
        "      d2 = x\n",
        "    if d2 > 0 and x > d2*1.3:\n",
        "      d3 = x\n",
        "      break\n",
        "\n",
        "  linesV = []\n",
        "  prev = 0 # outside\n",
        "\n",
        "  linesV.append(min(xs) - (d2 - diam)/2)\n",
        "\n",
        "  for i in range(1, len(xs)):\n",
        "    diff = xs[i] - xs[i-1]\n",
        "    if i == 1 and d2*0.9 < diff:\n",
        "      linesV.append(min(xs) - d2 - diam/2)\n",
        "      prev = 1\n",
        "    if d1*0.8 < diff < d1*1.2:\n",
        "      linesV.append(xs[i-1] + diam + (d1 - diam)/2)\n",
        "      prev = 1\n",
        "    elif d2*0.8 < diff < d2*1.1:\n",
        "      linesV.append(xs[i-1] + diam + (d2 - diam)/2)\n",
        "      prev = 0\n",
        "    elif d3*0.9 < diff < d3*1.1:\n",
        "      if prev == 1:\n",
        "        linesV.append(xs[i-1] + diam + (d2 - diam)/2)\n",
        "        linesV.append(xs[i-1] + d2 + diam + (d1 - diam)/2)\n",
        "      else:\n",
        "        linesV.append(xs[i-1] + diam + (d1 - diam)/2)\n",
        "        linesV.append(xs[i-1] + d1 + diam + (d2 - diam)/2)\n",
        "    elif d3*1.1 < diff:\n",
        "      if prev == 1:\n",
        "        linesV.append(xs[i-1] + diam + (d2 - diam)/2)\n",
        "        linesV.append(xs[i-1] + d2 + diam + (d1 - diam)/2)\n",
        "        linesV.append(xs[i-1] + d3 + diam + (d2 - diam)/2)\n",
        "#         if d2 + d3 < diff:\n",
        "#           linesV.append(xs[i-1] + 2*d3 - (d2 - diam)/2)\n",
        "        prev = 0\n",
        "      else:\n",
        "        linesV.append(xs[i-1] + diam + (d1 - diam)/2)\n",
        "        linesV.append(xs[i-1] + d1 + diam + (d2 - diam)/2)\n",
        "        linesV.append(xs[i-1] + d1 + d2 + diam + (d1 - diam)/2)\n",
        "        linesV.append(xs[i-1] + d1 + d3 + diam + (d2 - diam)/2)\n",
        "#         if d2 + d3 < diff:\n",
        "#           linesV.append(xs[i-1] + d1 + 2*d3 - (d2 - diam)/2)\n",
        "        prev = 1\n",
        "\n",
        "  linesV.append(max(xs) + diam*1.5)\n",
        "  if len(linesV)%2 == 0:\n",
        "    linesV.append(max(xs) + d2 + diam)\n",
        "\n",
        "  return linesV, d1, d2, d3, spacingX, spacingY\n",
        "\n",
        "\n",
        "def display_contours(figsize = (15,30), lines = False):\n",
        "\n",
        "  fig = plt.figure(figsize = figsize)\n",
        "  plt.rcParams['axes.grid'] = False\n",
        "  plt.rcParams['axes.spines.left'] = False\n",
        "  plt.axis('off')\n",
        "  plt.imshow(paper)\n",
        "  if lines:\n",
        "    for x in linesV:\n",
        "      plt.axvline(x)\n",
        "\n",
        "  plt.show()"
      ]
    },
    {
      "cell_type": "code",
      "execution_count": null,
      "metadata": {
        "id": "08q9vQRld2Iw"
      },
      "outputs": [],
      "source": [
        "def get_letters(showID = False):\n",
        "\n",
        "  Bxs = list(boundingBoxes)\n",
        "  Bxs.append((100000, 0))\n",
        "\n",
        "  dots = [[]]\n",
        "  for y in sorted(list(set(spacingY))):\n",
        "    if y > 1.3*diam:\n",
        "      minYD = y*1.5\n",
        "      break\n",
        "\n",
        "  # get lines of dots\n",
        "  for b in range(len(Bxs)-1):\n",
        "    if Bxs[b][0] < Bxs[b+1][0]:\n",
        "        if showID: dots[-1].append((b, Bxs[b][0:2]))\n",
        "        else: dots[-1].append(Bxs[b][0])\n",
        "    else:\n",
        "      if abs(Bxs[b+1][1] - Bxs[b][1]) < minYD:\n",
        "        if showID: dots[-1].append((b, Bxs[b][0:2]))\n",
        "        else: dots[-1].append(Bxs[b][0])\n",
        "        dots.append([])\n",
        "      else:\n",
        "        if showID: dots[-1].append((b, Bxs[b][0:2]))\n",
        "        else: dots[-1].append(Bxs[b][0])\n",
        "        dots.append([])\n",
        "        if len(dots)%3 == 0 and not dots[-1]:\n",
        "          dots.append([])\n",
        "\n",
        "#   for d in dots: print(d)\n",
        "\n",
        "  letters = []\n",
        "\n",
        "  count = 0\n",
        "\n",
        "  for r in range(len(dots)):\n",
        "    if not dots[r]:\n",
        "      letters.append([0 for _ in range(len(linesV)-1)])\n",
        "      continue\n",
        "\n",
        "    else:\n",
        "      letters.append([])\n",
        "      c = 0\n",
        "      i = 0\n",
        "      while i < len(linesV)-1:\n",
        "        if c < len(dots[r]):\n",
        "          if linesV[i] < dots[r][c] < linesV[i+1]:\n",
        "            letters[-1].append(1)\n",
        "            c += 1\n",
        "          else:\n",
        "            letters[-1].append(0)\n",
        "        else:\n",
        "          letters[-1].append(0)\n",
        "        i += 1\n",
        "\n",
        "  #   print(letters[-1])\n",
        "  for l in range(len(letters)):\n",
        "    if l%3 == 0: print()\n",
        "    print(letters[l])\n",
        "  print()\n",
        "\n",
        "  return letters"
      ]
    },
    {
      "cell_type": "code",
      "execution_count": null,
      "metadata": {
        "id": "wngdG0yQd7L7"
      },
      "outputs": [],
      "source": [
        "import numpy as np\n",
        "import re\n",
        "\n",
        "def translate(letters):\n",
        "    alpha = {'a': '1', 'b': '13', 'c': '12', 'd': '124', 'e': '14', 'f': '123',\n",
        "             'g': '1234', 'h': '134', 'i': '23', 'j': '234', 'k': '15',\n",
        "             'l': '135', 'm': '125', 'n': '1245', 'o': '145', 'p': '1235',\n",
        "             'q': '12345', 'r': '1345', 's': '235', 't': '2345', 'u': '156',\n",
        "             'v': '1356', 'w': '2346', 'x': '1256', 'y': '12456', 'z': '1456',\n",
        "             '#': '2456', '^': '6', ',': '3', '.': '346', '\\\"': '356', '^': '26',\n",
        "             ':': '34', '\\'': '5'}\n",
        "\n",
        "    nums = {'a': '1', 'b': '2', 'c': '3', 'd': '4', 'e': '5', 'f': '6', 'g': '7', 'h': '8', 'i': '9', 'j': '0'}\n",
        "\n",
        "    braille = {v: k for k, v in alpha.items()}\n",
        "\n",
        "    letters = np.array([np.array(l) for l in letters])\n",
        "\n",
        "    ans  = ''\n",
        "\n",
        "    for r in range(0, len(letters), 3):\n",
        "        for c in range(0, len(letters[0]), 2):\n",
        "            f = letters[r:r+3, c:c+2].flatten()\n",
        "            f = ''.join([str(i + 1) for i, d in enumerate(f) if d == 1])\n",
        "            if f == '6': f = '26'\n",
        "            if not f:\n",
        "                if ans and ans[-1] != ' ': ans += ' '\n",
        "            elif f in braille:\n",
        "                ans += braille[f]\n",
        "            else:\n",
        "                ans += '?'\n",
        "        if ans and ans[-1] != ' ': ans += ' '\n",
        "\n",
        "    # Replace numbers\n",
        "    def replace_nums(m):\n",
        "        return nums.get(m.group('key'), m.group(0))\n",
        "    ans = re.sub(r'#(?P<key>[a-zA-Z])', replace_nums, ans)\n",
        "\n",
        "    # Capitalize\n",
        "    def capitalize(m):\n",
        "        return m.group(0)[1].upper()\n",
        "    ans = re.sub(r'\\^(?P<key>[a-zA-Z])', capitalize, ans)\n",
        "\n",
        "    return ans\n"
      ]
    },
    {
      "cell_type": "code",
      "execution_count": null,
      "metadata": {
        "colab": {
          "base_uri": "https://localhost:8080/"
        },
        "id": "FIhXPBoCg5-q",
        "outputId": "cce6d6bc-127e-49c3-955f-a33cabb0ade8"
      },
      "outputs": [
        {
          "output_type": "stream",
          "name": "stdout",
          "text": [
            "Requirement already satisfied: pyspellchecker in /usr/local/lib/python3.10/dist-packages (0.8.1)\n"
          ]
        }
      ],
      "source": [
        "pip install pyspellchecker"
      ]
    },
    {
      "cell_type": "code",
      "execution_count": null,
      "metadata": {
        "colab": {
          "base_uri": "https://localhost:8080/"
        },
        "id": "ORzIy6xXg9R_",
        "outputId": "5d7e8ac9-f5bd-4c3c-b678-3edb28b64b19"
      },
      "outputs": [
        {
          "output_type": "stream",
          "name": "stdout",
          "text": [
            "Requirement already satisfied: language_tool_python in /usr/local/lib/python3.10/dist-packages (2.8.1)\n",
            "Requirement already satisfied: pip in /usr/local/lib/python3.10/dist-packages (from language_tool_python) (24.1.2)\n",
            "Requirement already satisfied: requests in /usr/local/lib/python3.10/dist-packages (from language_tool_python) (2.32.3)\n",
            "Requirement already satisfied: tqdm in /usr/local/lib/python3.10/dist-packages (from language_tool_python) (4.66.6)\n",
            "Requirement already satisfied: wheel in /usr/local/lib/python3.10/dist-packages (from language_tool_python) (0.45.0)\n",
            "Requirement already satisfied: charset-normalizer<4,>=2 in /usr/local/lib/python3.10/dist-packages (from requests->language_tool_python) (3.4.0)\n",
            "Requirement already satisfied: idna<4,>=2.5 in /usr/local/lib/python3.10/dist-packages (from requests->language_tool_python) (3.10)\n",
            "Requirement already satisfied: urllib3<3,>=1.21.1 in /usr/local/lib/python3.10/dist-packages (from requests->language_tool_python) (2.2.3)\n",
            "Requirement already satisfied: certifi>=2017.4.17 in /usr/local/lib/python3.10/dist-packages (from requests->language_tool_python) (2024.8.30)\n"
          ]
        }
      ],
      "source": [
        "!pip install language_tool_python"
      ]
    },
    {
      "cell_type": "code",
      "execution_count": null,
      "metadata": {
        "colab": {
          "base_uri": "https://localhost:8080/"
        },
        "id": "fZfwAzHShB6e",
        "outputId": "0c23df0e-a280-4d6d-8a6e-405fc0108d9c"
      },
      "outputs": [
        {
          "output_type": "stream",
          "name": "stdout",
          "text": [
            "Requirement already satisfied: transformers in /usr/local/lib/python3.10/dist-packages (4.46.2)\n",
            "Requirement already satisfied: filelock in /usr/local/lib/python3.10/dist-packages (from transformers) (3.16.1)\n",
            "Requirement already satisfied: huggingface-hub<1.0,>=0.23.2 in /usr/local/lib/python3.10/dist-packages (from transformers) (0.26.2)\n",
            "Requirement already satisfied: numpy>=1.17 in /usr/local/lib/python3.10/dist-packages (from transformers) (1.26.4)\n",
            "Requirement already satisfied: packaging>=20.0 in /usr/local/lib/python3.10/dist-packages (from transformers) (24.2)\n",
            "Requirement already satisfied: pyyaml>=5.1 in /usr/local/lib/python3.10/dist-packages (from transformers) (6.0.2)\n",
            "Requirement already satisfied: regex!=2019.12.17 in /usr/local/lib/python3.10/dist-packages (from transformers) (2024.9.11)\n",
            "Requirement already satisfied: requests in /usr/local/lib/python3.10/dist-packages (from transformers) (2.32.3)\n",
            "Requirement already satisfied: safetensors>=0.4.1 in /usr/local/lib/python3.10/dist-packages (from transformers) (0.4.5)\n",
            "Requirement already satisfied: tokenizers<0.21,>=0.20 in /usr/local/lib/python3.10/dist-packages (from transformers) (0.20.3)\n",
            "Requirement already satisfied: tqdm>=4.27 in /usr/local/lib/python3.10/dist-packages (from transformers) (4.66.6)\n",
            "Requirement already satisfied: fsspec>=2023.5.0 in /usr/local/lib/python3.10/dist-packages (from huggingface-hub<1.0,>=0.23.2->transformers) (2024.10.0)\n",
            "Requirement already satisfied: typing-extensions>=3.7.4.3 in /usr/local/lib/python3.10/dist-packages (from huggingface-hub<1.0,>=0.23.2->transformers) (4.12.2)\n",
            "Requirement already satisfied: charset-normalizer<4,>=2 in /usr/local/lib/python3.10/dist-packages (from requests->transformers) (3.4.0)\n",
            "Requirement already satisfied: idna<4,>=2.5 in /usr/local/lib/python3.10/dist-packages (from requests->transformers) (3.10)\n",
            "Requirement already satisfied: urllib3<3,>=1.21.1 in /usr/local/lib/python3.10/dist-packages (from requests->transformers) (2.2.3)\n",
            "Requirement already satisfied: certifi>=2017.4.17 in /usr/local/lib/python3.10/dist-packages (from requests->transformers) (2024.8.30)\n"
          ]
        }
      ],
      "source": [
        "pip install transformers"
      ]
    },
    {
      "cell_type": "code",
      "execution_count": null,
      "metadata": {
        "colab": {
          "base_uri": "https://localhost:8080/"
        },
        "id": "80A7AqFThCcc",
        "outputId": "abd9cb1c-a1e3-47c0-9390-66b3dc392f4b"
      },
      "outputs": [
        {
          "output_type": "stream",
          "name": "stdout",
          "text": [
            "Requirement already satisfied: deep-translator in /usr/local/lib/python3.10/dist-packages (1.11.4)\n",
            "Requirement already satisfied: beautifulsoup4<5.0.0,>=4.9.1 in /usr/local/lib/python3.10/dist-packages (from deep-translator) (4.12.3)\n",
            "Requirement already satisfied: requests<3.0.0,>=2.23.0 in /usr/local/lib/python3.10/dist-packages (from deep-translator) (2.32.3)\n",
            "Requirement already satisfied: soupsieve>1.2 in /usr/local/lib/python3.10/dist-packages (from beautifulsoup4<5.0.0,>=4.9.1->deep-translator) (2.6)\n",
            "Requirement already satisfied: charset-normalizer<4,>=2 in /usr/local/lib/python3.10/dist-packages (from requests<3.0.0,>=2.23.0->deep-translator) (3.4.0)\n",
            "Requirement already satisfied: idna<4,>=2.5 in /usr/local/lib/python3.10/dist-packages (from requests<3.0.0,>=2.23.0->deep-translator) (3.10)\n",
            "Requirement already satisfied: urllib3<3,>=1.21.1 in /usr/local/lib/python3.10/dist-packages (from requests<3.0.0,>=2.23.0->deep-translator) (2.2.3)\n",
            "Requirement already satisfied: certifi>=2017.4.17 in /usr/local/lib/python3.10/dist-packages (from requests<3.0.0,>=2.23.0->deep-translator) (2024.8.30)\n"
          ]
        }
      ],
      "source": [
        "pip install deep-translator"
      ]
    },
    {
      "cell_type": "code",
      "execution_count": null,
      "metadata": {
        "colab": {
          "base_uri": "https://localhost:8080/"
        },
        "id": "jo-Iiil3hCfV",
        "outputId": "54da8563-fb35-4506-e7c7-97ecde22b24a"
      },
      "outputs": [
        {
          "output_type": "stream",
          "name": "stdout",
          "text": [
            "Requirement already satisfied: gTTS in /usr/local/lib/python3.10/dist-packages (2.5.4)\n",
            "Requirement already satisfied: requests<3,>=2.27 in /usr/local/lib/python3.10/dist-packages (from gTTS) (2.32.3)\n",
            "Requirement already satisfied: click<8.2,>=7.1 in /usr/local/lib/python3.10/dist-packages (from gTTS) (8.1.7)\n",
            "Requirement already satisfied: charset-normalizer<4,>=2 in /usr/local/lib/python3.10/dist-packages (from requests<3,>=2.27->gTTS) (3.4.0)\n",
            "Requirement already satisfied: idna<4,>=2.5 in /usr/local/lib/python3.10/dist-packages (from requests<3,>=2.27->gTTS) (3.10)\n",
            "Requirement already satisfied: urllib3<3,>=1.21.1 in /usr/local/lib/python3.10/dist-packages (from requests<3,>=2.27->gTTS) (2.2.3)\n",
            "Requirement already satisfied: certifi>=2017.4.17 in /usr/local/lib/python3.10/dist-packages (from requests<3,>=2.27->gTTS) (2024.8.30)\n"
          ]
        }
      ],
      "source": [
        "pip install gTTS"
      ]
    },
    {
      "cell_type": "code",
      "execution_count": null,
      "metadata": {
        "id": "7Su_an0NhPY7"
      },
      "outputs": [],
      "source": [
        "from spellchecker import SpellChecker\n",
        "import language_tool_python\n",
        "\n",
        "# Initialize the spell checker\n",
        "spell = SpellChecker()\n",
        "\n",
        "# Initialize the language tool for grammar correction\n",
        "tool = language_tool_python.LanguageTool('en-US')"
      ]
    },
    {
      "cell_type": "code",
      "execution_count": null,
      "metadata": {
        "id": "428tm-QJiZbU"
      },
      "outputs": [],
      "source": [
        " from transformers import T5ForConditionalGeneration, T5Tokenizer\n",
        " model_name = \"vennify/t5-base-grammar-correction\""
      ]
    },
    {
      "cell_type": "code",
      "execution_count": null,
      "metadata": {
        "id": "lr7Ij9rZllUB"
      },
      "outputs": [],
      "source": [
        "from skimage import io\n"
      ]
    },
    {
      "cell_type": "code",
      "execution_count": null,
      "metadata": {
        "colab": {
          "base_uri": "https://localhost:8080/",
          "height": 164
        },
        "id": "VmbaHOzCeDHp",
        "outputId": "c46d7fe0-169f-46aa-d449-89d64f11fe14"
      },
      "outputs": [
        {
          "output_type": "display_data",
          "data": {
            "text/plain": [
              "<IPython.core.display.HTML object>"
            ],
            "text/html": [
              "\n",
              "     <input type=\"file\" id=\"files-e1a6a87e-0d66-481d-a5fc-ad2419e3af74\" name=\"files[]\" multiple disabled\n",
              "        style=\"border:none\" />\n",
              "     <output id=\"result-e1a6a87e-0d66-481d-a5fc-ad2419e3af74\">\n",
              "      Upload widget is only available when the cell has been executed in the\n",
              "      current browser session. Please rerun this cell to enable.\n",
              "      </output>\n",
              "      <script>// Copyright 2017 Google LLC\n",
              "//\n",
              "// Licensed under the Apache License, Version 2.0 (the \"License\");\n",
              "// you may not use this file except in compliance with the License.\n",
              "// You may obtain a copy of the License at\n",
              "//\n",
              "//      http://www.apache.org/licenses/LICENSE-2.0\n",
              "//\n",
              "// Unless required by applicable law or agreed to in writing, software\n",
              "// distributed under the License is distributed on an \"AS IS\" BASIS,\n",
              "// WITHOUT WARRANTIES OR CONDITIONS OF ANY KIND, either express or implied.\n",
              "// See the License for the specific language governing permissions and\n",
              "// limitations under the License.\n",
              "\n",
              "/**\n",
              " * @fileoverview Helpers for google.colab Python module.\n",
              " */\n",
              "(function(scope) {\n",
              "function span(text, styleAttributes = {}) {\n",
              "  const element = document.createElement('span');\n",
              "  element.textContent = text;\n",
              "  for (const key of Object.keys(styleAttributes)) {\n",
              "    element.style[key] = styleAttributes[key];\n",
              "  }\n",
              "  return element;\n",
              "}\n",
              "\n",
              "// Max number of bytes which will be uploaded at a time.\n",
              "const MAX_PAYLOAD_SIZE = 100 * 1024;\n",
              "\n",
              "function _uploadFiles(inputId, outputId) {\n",
              "  const steps = uploadFilesStep(inputId, outputId);\n",
              "  const outputElement = document.getElementById(outputId);\n",
              "  // Cache steps on the outputElement to make it available for the next call\n",
              "  // to uploadFilesContinue from Python.\n",
              "  outputElement.steps = steps;\n",
              "\n",
              "  return _uploadFilesContinue(outputId);\n",
              "}\n",
              "\n",
              "// This is roughly an async generator (not supported in the browser yet),\n",
              "// where there are multiple asynchronous steps and the Python side is going\n",
              "// to poll for completion of each step.\n",
              "// This uses a Promise to block the python side on completion of each step,\n",
              "// then passes the result of the previous step as the input to the next step.\n",
              "function _uploadFilesContinue(outputId) {\n",
              "  const outputElement = document.getElementById(outputId);\n",
              "  const steps = outputElement.steps;\n",
              "\n",
              "  const next = steps.next(outputElement.lastPromiseValue);\n",
              "  return Promise.resolve(next.value.promise).then((value) => {\n",
              "    // Cache the last promise value to make it available to the next\n",
              "    // step of the generator.\n",
              "    outputElement.lastPromiseValue = value;\n",
              "    return next.value.response;\n",
              "  });\n",
              "}\n",
              "\n",
              "/**\n",
              " * Generator function which is called between each async step of the upload\n",
              " * process.\n",
              " * @param {string} inputId Element ID of the input file picker element.\n",
              " * @param {string} outputId Element ID of the output display.\n",
              " * @return {!Iterable<!Object>} Iterable of next steps.\n",
              " */\n",
              "function* uploadFilesStep(inputId, outputId) {\n",
              "  const inputElement = document.getElementById(inputId);\n",
              "  inputElement.disabled = false;\n",
              "\n",
              "  const outputElement = document.getElementById(outputId);\n",
              "  outputElement.innerHTML = '';\n",
              "\n",
              "  const pickedPromise = new Promise((resolve) => {\n",
              "    inputElement.addEventListener('change', (e) => {\n",
              "      resolve(e.target.files);\n",
              "    });\n",
              "  });\n",
              "\n",
              "  const cancel = document.createElement('button');\n",
              "  inputElement.parentElement.appendChild(cancel);\n",
              "  cancel.textContent = 'Cancel upload';\n",
              "  const cancelPromise = new Promise((resolve) => {\n",
              "    cancel.onclick = () => {\n",
              "      resolve(null);\n",
              "    };\n",
              "  });\n",
              "\n",
              "  // Wait for the user to pick the files.\n",
              "  const files = yield {\n",
              "    promise: Promise.race([pickedPromise, cancelPromise]),\n",
              "    response: {\n",
              "      action: 'starting',\n",
              "    }\n",
              "  };\n",
              "\n",
              "  cancel.remove();\n",
              "\n",
              "  // Disable the input element since further picks are not allowed.\n",
              "  inputElement.disabled = true;\n",
              "\n",
              "  if (!files) {\n",
              "    return {\n",
              "      response: {\n",
              "        action: 'complete',\n",
              "      }\n",
              "    };\n",
              "  }\n",
              "\n",
              "  for (const file of files) {\n",
              "    const li = document.createElement('li');\n",
              "    li.append(span(file.name, {fontWeight: 'bold'}));\n",
              "    li.append(span(\n",
              "        `(${file.type || 'n/a'}) - ${file.size} bytes, ` +\n",
              "        `last modified: ${\n",
              "            file.lastModifiedDate ? file.lastModifiedDate.toLocaleDateString() :\n",
              "                                    'n/a'} - `));\n",
              "    const percent = span('0% done');\n",
              "    li.appendChild(percent);\n",
              "\n",
              "    outputElement.appendChild(li);\n",
              "\n",
              "    const fileDataPromise = new Promise((resolve) => {\n",
              "      const reader = new FileReader();\n",
              "      reader.onload = (e) => {\n",
              "        resolve(e.target.result);\n",
              "      };\n",
              "      reader.readAsArrayBuffer(file);\n",
              "    });\n",
              "    // Wait for the data to be ready.\n",
              "    let fileData = yield {\n",
              "      promise: fileDataPromise,\n",
              "      response: {\n",
              "        action: 'continue',\n",
              "      }\n",
              "    };\n",
              "\n",
              "    // Use a chunked sending to avoid message size limits. See b/62115660.\n",
              "    let position = 0;\n",
              "    do {\n",
              "      const length = Math.min(fileData.byteLength - position, MAX_PAYLOAD_SIZE);\n",
              "      const chunk = new Uint8Array(fileData, position, length);\n",
              "      position += length;\n",
              "\n",
              "      const base64 = btoa(String.fromCharCode.apply(null, chunk));\n",
              "      yield {\n",
              "        response: {\n",
              "          action: 'append',\n",
              "          file: file.name,\n",
              "          data: base64,\n",
              "        },\n",
              "      };\n",
              "\n",
              "      let percentDone = fileData.byteLength === 0 ?\n",
              "          100 :\n",
              "          Math.round((position / fileData.byteLength) * 100);\n",
              "      percent.textContent = `${percentDone}% done`;\n",
              "\n",
              "    } while (position < fileData.byteLength);\n",
              "  }\n",
              "\n",
              "  // All done.\n",
              "  yield {\n",
              "    response: {\n",
              "      action: 'complete',\n",
              "    }\n",
              "  };\n",
              "}\n",
              "\n",
              "scope.google = scope.google || {};\n",
              "scope.google.colab = scope.google.colab || {};\n",
              "scope.google.colab._files = {\n",
              "  _uploadFiles,\n",
              "  _uploadFilesContinue,\n",
              "};\n",
              "})(self);\n",
              "</script> "
            ]
          },
          "metadata": {}
        },
        {
          "output_type": "stream",
          "name": "stdout",
          "text": [
            "Saving Screenshot 2024-11-25 212926.png to Screenshot 2024-11-25 212926 (1).png\n",
            "\n",
            "[0, 1, 0, 1, 0, 1, 1, 0, 1, 0, 1, 0, 1, 1, 1, 1]\n",
            "[1, 0, 0, 0, 0, 0, 0, 0, 1, 1, 1, 0, 1, 0, 0, 1]\n",
            "[0, 0, 0, 0, 0, 1, 0, 0, 0, 0, 0, 0, 1, 0, 1, 1]\n",
            "\n"
          ]
        }
      ],
      "source": [
        "# url = 'https://i.imgur.com/NwLqmz2.jpg'    # works\n",
        "# url = 'https://i.imgur.com/4nC067a.jpg'    # works\n",
        "# url = 'https://i.imgur.com/osNCAx3.jpg'    # works\n",
        "# url = 'https://i.imgur.com/maU4r0t.jpg'    # works\n",
        "# url = 'https://i.imgur.com/OdyYxp1.jpg'    # not works :< (because letters aren't aligned vertically)\n",
        "# url = 'https://i.imgur.com/ttq5PzE.jpg'    # works\n",
        "# url = 'https://i.imgur.com/EjBz4nI.jpg'    # works (iter = 0, width = 1500)\n",
        "# url = 'https://i.imgur.com/4ggIni9.jpg'    # not works :<\n",
        "#url = 'https://i.imgur.com/UBqs60s.jpg'    # works\n",
        "# url = 'https://i.imgur.com/ihU7tFt.jpg'    # works (iter = 0, width = 1500)\n",
        "from google.colab import files\n",
        "uploaded = files.upload()  # Opens a dialog to upload a file\n",
        "\n",
        "    # Retrieve the uploaded file path\n",
        "url = next(iter(uploaded))    # works (iter = 0, width = 1500)\n",
        "\n",
        "image, ctrs, paper, gray, edged, thresh = get_image(url, iter = 0, width = 1500)\n",
        "\n",
        "\n",
        "diam = get_diameter()\n",
        "dotCtrs = get_circles()\n",
        "\n",
        "questionCtrs, boundingBoxes, xs, ys = sort_contours(dotCtrs)\n",
        "draw_contours(questionCtrs)\n",
        "\n",
        "linesV, d1, d2, d3, spacingX, spacingY = get_spacing()\n",
        "\n",
        "letters = get_letters()\n",
        "ans = translate(letters)"
      ]
    },
    {
      "cell_type": "code",
      "execution_count": null,
      "metadata": {
        "colab": {
          "base_uri": "https://localhost:8080/",
          "height": 172
        },
        "id": "qaeo8klReImp",
        "outputId": "b24a625e-abc4-401a-ea36-1bfaaef25519"
      },
      "outputs": [
        {
          "output_type": "display_data",
          "data": {
            "text/plain": [
              "<Figure size 640x480 with 1 Axes>"
            ],
            "image/png": "[encoded data removed]"
          },
          "metadata": {}
        },
        {
          "output_type": "stream",
          "name": "stdout",
          "text": [
            "i?Ahbpy\n"
          ]
        }
      ],
      "source": [
        "from textwrap import wrap\n",
        "\n",
        "plt.axis('off')\n",
        "io.imshow(image)\n",
        "plt.show()\n",
        "for l in wrap(ans, width = 80):\n",
        "  print(l)"
      ]
    },
    {
      "cell_type": "code",
      "execution_count": null,
      "metadata": {
        "colab": {
          "base_uri": "https://localhost:8080/"
        },
        "id": "swG-hrK1kqq-",
        "outputId": "38c23733-1078-47de-fbbd-4e824721ce5e"
      },
      "outputs": [
        {
          "output_type": "stream",
          "name": "stdout",
          "text": [
            "I happy\n"
          ]
        }
      ],
      "source": [
        "# Function to remove special characters\n",
        "text=ans\n",
        "def remove_special_characters(text):\n",
        "    return re.sub(r'[^A-Za-z0-9\\s]', ' ', text)  # Remove all non-alphanumeric characters except spaces\n",
        "\n",
        "# Function to correct spelling\n",
        "def correct_spelling(text):\n",
        "    words = text.split()  # Split sentence into words\n",
        "    corrected_words = []\n",
        "    for word in words:\n",
        "        corrected = spell.correction(word)\n",
        "        if corrected is None:  # If no correction, use the original word\n",
        "            corrected_words.append(word)\n",
        "        else:\n",
        "            corrected_words.append(corrected)\n",
        "    return ' '.join(corrected_words)\n",
        "\n",
        "# Function to correct grammar\n",
        "def correct_grammar(text):\n",
        "    matches = tool.check(text)  # Check the text for grammar mistakes\n",
        "    corrected_text = language_tool_python.utils.correct(text, matches)  # Get the corrected sentence\n",
        "    return corrected_text\n",
        "\n",
        "# Function to process text by removing special characters, correcting spelling, and grammar\n",
        "\n",
        "text = remove_special_characters(text)        # Step 1: Remove special characters\n",
        "\n",
        "text = correct_spelling(text)                 # Step 2: Correct spelling\n",
        "\n",
        "text = correct_grammar(text)                  # Step 3: Correct grammar\n",
        "print(text)\n"
      ]
    },
    {
      "cell_type": "code",
      "execution_count": null,
      "metadata": {
        "colab": {
          "base_uri": "https://localhost:8080/"
        },
        "id": "9tP6KdQ8Q6g7",
        "outputId": "03ffe218-4cef-4725-d09e-056320e76061"
      },
      "outputs": [
        {
          "output_type": "stream",
          "name": "stdout",
          "text": [
            "I am happy.\n"
          ]
        }
      ],
      "source": [
        "def correct_grammar(text):\n",
        "\n",
        "    tokenizer = T5Tokenizer.from_pretrained(model_name)\n",
        "    model = T5ForConditionalGeneration.from_pretrained(model_name)\n",
        "\n",
        "    # Prepare the text for the T5 model\n",
        "    input_text = f\"grammar: {text}\"\n",
        "    inputs = tokenizer.encode(input_text, return_tensors=\"pt\", max_length=512, truncation=True)\n",
        "\n",
        "    # Generate the corrected sentence\n",
        "    outputs = model.generate(inputs, max_length=512, num_beams=5, early_stopping=True)\n",
        "    corrected_sentence = tokenizer.decode(outputs[0], skip_special_tokens=True)\n",
        "\n",
        "    return corrected_sentence\n",
        "\n",
        "# Example usage\n",
        "input_text =  text\n",
        "corrected_text = correct_grammar(input_text)\n",
        "print(corrected_text)"
      ]
    },
    {
      "cell_type": "code",
      "execution_count": null,
      "metadata": {
        "colab": {
          "base_uri": "https://localhost:8080/"
        },
        "id": "yAfvYp_lsd8a",
        "outputId": "ca20a7ee-e8cc-413b-b937-95408e9789f6"
      },
      "outputs": [
        {
          "output_type": "stream",
          "name": "stdout",
          "text": [
            "Original Text: I am happy.\n",
            "Translated Text: நான் மகிழ்ச்சியாக இருக்கிறேன்.\n"
          ]
        }
      ],
      "source": [
        "from deep_translator import GoogleTranslator\n",
        "\n",
        "# Define the English text to translate\n",
        "english_text = corrected_text\n",
        "\n",
        "# Translate the text to Tamil\n",
        "translation = GoogleTranslator(source='en', target='ta').translate(english_text)\n",
        "\n",
        "# Print the translated text\n",
        "print(\"Original Text:\", english_text)\n",
        "print(\"Translated Text:\", translation)\n"
      ]
    },
    {
      "cell_type": "code",
      "execution_count": null,
      "metadata": {
        "colab": {
          "base_uri": "https://localhost:8080/",
          "height": 75
        },
        "id": "YiqB6xEVtWRU",
        "outputId": "70718b77-32f0-492e-a4a2-704a9d35514e"
      },
      "outputs": [
        {
          "output_type": "execute_result",
          "data": {
            "text/plain": [
              "<IPython.lib.display.Audio object>"
            ],
            "text/html": [
              "\n",
              "                <audio  controls=\"controls\" >\n",
              "                    <source src=\"data:audio/wav;base64,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\" type=\"audio/wav\" />\n",
              "                    Your browser does not support the audio element.\n",
              "                </audio>\n",
              "              "
            ]
          },
          "metadata": {},
          "execution_count": 92
        }
      ],
      "source": [
        "from gtts import gTTS\n",
        "import io\n",
        "from IPython.display import Audio\n",
        "tts = gTTS(text=translation, lang='ta')\n",
        "mp3_fp = io.BytesIO()\n",
        "tts.write_to_fp(mp3_fp)\n",
        "mp3_fp.seek(0)\n",
        "\n",
        "# Use IPython's Audio to play the audio directly in the notebook\n",
        "Audio(mp3_fp.read())"
      ]
    },
    {
      "cell_type": "code",
      "execution_count": null,
      "metadata": {
        "id": "evUsgXVuuQsZ"
      },
      "outputs": [],
      "source": []
    }
  ],
  "metadata": {
    "colab": {
      "provenance": []
    },
    "kernelspec": {
      "display_name": "Python 3",
      "name": "python3"
    },
    "language_info": {
      "name": "python"
    }
  },
  "nbformat": 4,
  "nbformat_minor": 0
}